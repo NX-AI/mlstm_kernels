{
 "cells": [
  {
   "cell_type": "code",
   "execution_count": null,
   "metadata": {},
   "outputs": [],
   "source": [
    "%load_ext autoreload\n",
    "%autoreload 2\n",
    "import sys\n",
    "\n",
    "import pandas as pd\n",
    "\n",
    "sys.path.append(\"../..\")\n",
    "\n",
    "from mlstm_kernels.utils.benchmark.plot_results import (\n",
    "    plot_benchmark_result_table,\n",
    "    create_runtime_bar_plot,\n",
    "    rc_context_wrapper,\n",
    "    select_columns,\n",
    "    savefig,\n",
    ")\n",
    "from pathlib import Path\n",
    "from plot_config import linestyle_mapping, style_dict\n",
    "import pickle"
   ]
  },
  {
   "cell_type": "code",
   "execution_count": null,
   "metadata": {},
   "outputs": [],
   "source": [
    "def load_throughput_results_for_ctxes(path_template: str, ctxes: list[int]):\n",
    "    results = {}\n",
    "    for ctx in ctxes:\n",
    "        path = Path(path_template.format(ctx=ctx))\n",
    "        df = pd.read_csv(path).filter(regex=\".*(batch_size|prefill|R--).*\")\n",
    "        results[ctx] = df\n",
    "    return results"
   ]
  },
  {
   "cell_type": "code",
   "execution_count": null,
   "metadata": {},
   "outputs": [],
   "source": [
    "# llama_results = load_throughput_results_for_ctxes(\n",
    "#     path_template=\"/home/beck/wdir/dev_repos/mlstm_kernels/outputs_kernel_benchmarks_final/2024-12-06_19-44-48__throughput__forward_llama_v3/hf_7B_throughput__pfl{ctx}_gl0_tcTrue_weightdtypebfloat16/results.csv\",\n",
    "#     ctxes=[2048, 4096, 8192, 16384, 32768],\n",
    "# )\n",
    "\n",
    "# mamba_results = load_throughput_results_for_ctxes(\n",
    "#     path_template=\"/home/beck/wdir/dev_repos/mlstm_kernels/outputs_kernel_benchmarks_final/2024-12-06_13-02-27__throughput__forward_mamba_v2/hf_7B_throughput__pfl{ctx}_gl0_tcTrue_weightdtypebfloat16/results.csv\",\n",
    "#     ctxes=[2048, 4096, 8192, 16384, 32768],\n",
    "# )\n",
    "\n",
    "# mxlstm_results = load_throughput_results_for_ctxes(\n",
    "#     path_template=\"/home/beck/wdir/dev_repos/mlstm_kernels/outputs_kernel_benchmarks_final/2024-12-06_12-46-45__throughput__forward_xlstm_v0/hf_7B_throughput__pfl{ctx}_gl0_tcTrue_weightdtypebfloat16/results.csv\",\n",
    "#     ctxes=[2048, 4096, 8192, 16384, 32768],\n",
    "# )"
   ]
  },
  {
   "cell_type": "code",
   "execution_count": null,
   "metadata": {},
   "outputs": [],
   "source": [
    "# # collect all results sorted by context\n",
    "# result_dicts = [\n",
    "#     llama_results,\n",
    "#     mamba_results,\n",
    "#     mxlstm_results,\n",
    "# ]\n",
    "# combined_raw_data = {}\n",
    "# for ctx in [2048, 4096, 8192, 16384, 32768]:\n",
    "#     ctx_df = pd.concat(\n",
    "#         [rd[ctx].set_index(\"P--batch_size\") for rd in result_dicts], axis=1\n",
    "#     )\n",
    "#     # select batch size only once\n",
    "#     ctx_df = pd.concat(\n",
    "#         [\n",
    "#             ctx_df.filter(regex=\"prefill\").take([0], axis=1),\n",
    "#             ctx_df.filter(regex=\".*R--.*\"),\n",
    "#         ],\n",
    "#         axis=1,\n",
    "#     )\n",
    "#     combined_raw_data[ctx] = ctx_df"
   ]
  },
  {
   "cell_type": "code",
   "execution_count": null,
   "metadata": {},
   "outputs": [],
   "source": [
    "# with open(\"throughput_data.p\", \"wb\") as f:\n",
    "#     pickle.dump(combined_raw_data, f)\n",
    "\n",
    "# for k, v in combined_raw_data.items():\n",
    "#     v.to_csv(f\"raw_data_throughput_{k}.csv\")"
   ]
  },
  {
   "cell_type": "code",
   "execution_count": null,
   "metadata": {},
   "outputs": [],
   "source": [
    "with open(\"throughput_data.p\", \"rb\") as f:\n",
    "    combined_raw_data = pickle.load(f)"
   ]
  },
  {
   "cell_type": "code",
   "execution_count": null,
   "metadata": {},
   "outputs": [],
   "source": [
    "combined_raw_data[2048]"
   ]
  },
  {
   "cell_type": "code",
   "execution_count": null,
   "metadata": {},
   "outputs": [],
   "source": [
    "dataframe_dicts"
   ]
  },
  {
   "cell_type": "code",
   "execution_count": null,
   "metadata": {},
   "outputs": [],
   "source": [
    "for ctx in [2048, 4096, 8192, 16384, 32768]:\n",
    "    df_base = pd.read_csv(\n",
    "        f\"../../outputs_kernel_benchmarks/2025-03-31_09-03-51__throughput__vllmpt260_lwu/hf_7B_throughput__pfl{ctx}_gl0_tcFalse_weightdtypebfloat16/results.csv\"\n",
    "    )\n",
    "\n",
    "    dataframe_dicts = [\n",
    "        df_base.filter(regex=\"R.*llama3\"),  # / 1000.,\n",
    "        df_base.filter(regex=\"R.*codestral\"),  #  / 1000.,\n",
    "        df_base.filter(regex=\"R.*falcon\"),  #  / 1000.,\n",
    "        df_base.filter(regex=\"R.*llama2\") * float(\"nan\")\n",
    "        if ctx >= 8192\n",
    "        else df_base.filter(regex=\"R.*llama2\"),  #  / 1000.\n",
    "    ]\n",
    "\n",
    "    dataframe_dicts = [\n",
    "        df.rename(columns={df.columns[0]: df.columns[0] + \"_vllm\"})\n",
    "        for df in dataframe_dicts\n",
    "    ]\n",
    "\n",
    "    df = combined_raw_data[ctx]\n",
    "    # print(df)\n",
    "    # df = df[[df['P--batch_size'] not in [2, 128] ]]\n",
    "\n",
    "    combined_raw_data[ctx] = pd.concat(\n",
    "        [df.reset_index(), *dataframe_dicts], axis=1\n",
    "    ).set_index(\"P--batch_size\")"
   ]
  },
  {
   "cell_type": "code",
   "execution_count": null,
   "metadata": {},
   "outputs": [],
   "source": [
    "2048 * combined_raw_data[2048].index.values"
   ]
  },
  {
   "cell_type": "code",
   "execution_count": null,
   "metadata": {},
   "outputs": [],
   "source": [
    "vals = (2048 * combined_raw_data[2048].index.values)[:, None] / combined_raw_data[\n",
    "    2048\n",
    "].filter(regex=\".*R--.*\")\n",
    "vals"
   ]
  },
  {
   "cell_type": "code",
   "execution_count": null,
   "metadata": {},
   "outputs": [],
   "source": [
    "pd.DataFrame(\n",
    "    data=vals,\n",
    "    columns=combined_raw_data[2048].filter(regex=\".*R--.*\").columns,\n",
    "    index=combined_raw_data[2048].index,\n",
    ")"
   ]
  },
  {
   "cell_type": "code",
   "execution_count": null,
   "metadata": {},
   "outputs": [],
   "source": [
    "combined_raw_data[2048][\"P--prefill_length\"].values[0]"
   ]
  },
  {
   "cell_type": "code",
   "execution_count": null,
   "metadata": {},
   "outputs": [],
   "source": [
    "def compute_throughput_tokens_per_sec(raw_data_dict: dict[str, pd.DataFrame]):\n",
    "    throughput_dict = {}\n",
    "    for ctx, df in raw_data_dict.items():\n",
    "        prefill_col = df.filter(regex=\"prefill\").take([0], axis=1)\n",
    "        tokens_per_sec_df = (ctx * df.index.values)[:, None] / (\n",
    "            df.filter(regex=\".*R--.*\") / 1000\n",
    "        )\n",
    "        tokens_per_sec_df[\"P--prefill_length\"] = int(prefill_col.values[0].item())\n",
    "        # now make index a column again\n",
    "        batch_col = tokens_per_sec_df.index\n",
    "        tokens_per_sec_df[\"P--batch_size\"] = batch_col\n",
    "\n",
    "        tokens_per_sec_df = pd.concat(\n",
    "            [\n",
    "                tokens_per_sec_df[\"P--batch_size\"],\n",
    "                tokens_per_sec_df[\"P--prefill_length\"],\n",
    "                tokens_per_sec_df.drop(columns=[\"P--batch_size\", \"P--prefill_length\"]),\n",
    "            ],\n",
    "            axis=1,\n",
    "        )\n",
    "        throughput_dict[ctx] = tokens_per_sec_df\n",
    "    return throughput_dict"
   ]
  },
  {
   "cell_type": "code",
   "execution_count": null,
   "metadata": {},
   "outputs": [],
   "source": [
    "throughput_data = compute_throughput_tokens_per_sec(combined_raw_data)"
   ]
  },
  {
   "cell_type": "code",
   "execution_count": null,
   "metadata": {},
   "outputs": [],
   "source": [
    "throughput_data[2048]"
   ]
  },
  {
   "cell_type": "code",
   "execution_count": null,
   "metadata": {},
   "outputs": [],
   "source": [
    "throughput_data[4096]"
   ]
  },
  {
   "cell_type": "code",
   "execution_count": null,
   "metadata": {},
   "outputs": [],
   "source": [
    "throughput_data[8192]"
   ]
  },
  {
   "cell_type": "code",
   "execution_count": null,
   "metadata": {},
   "outputs": [],
   "source": [
    "throughput_data[16384]"
   ]
  },
  {
   "cell_type": "code",
   "execution_count": null,
   "metadata": {},
   "outputs": [],
   "source": [
    "throughput_data[32768]"
   ]
  },
  {
   "cell_type": "code",
   "execution_count": null,
   "metadata": {},
   "outputs": [],
   "source": [
    "throughput_32768 = throughput_data[32768].loc[\n",
    "    throughput_data[32768][\"P--batch_size\"] == 2.0\n",
    "]\n",
    "throughput_16384 = throughput_data[16384].loc[\n",
    "    throughput_data[16384][\"P--batch_size\"] == 4.0\n",
    "]\n",
    "throughput_8192 = throughput_data[8192].loc[\n",
    "    throughput_data[8192][\"P--batch_size\"] == 8.0\n",
    "]\n",
    "throughput_4096 = throughput_data[4096].loc[\n",
    "    throughput_data[4096][\"P--batch_size\"] == 16.0\n",
    "]\n",
    "throughput_2048 = throughput_data[2048].loc[\n",
    "    throughput_data[2048][\"P--batch_size\"] == 32.0\n",
    "]"
   ]
  },
  {
   "cell_type": "code",
   "execution_count": null,
   "metadata": {},
   "outputs": [],
   "source": [
    "throughput_df = pd.concat(\n",
    "    [\n",
    "        throughput_2048,\n",
    "        throughput_4096,\n",
    "        throughput_8192,\n",
    "        throughput_16384,\n",
    "        throughput_32768,\n",
    "    ]\n",
    ")"
   ]
  },
  {
   "cell_type": "code",
   "execution_count": null,
   "metadata": {},
   "outputs": [],
   "source": [
    "throughput_df"
   ]
  },
  {
   "cell_type": "code",
   "execution_count": null,
   "metadata": {},
   "outputs": [],
   "source": [
    "# with open(\"throughput_vllm_df.p\", \"wb\") as f:\n",
    "#     pickle.dump(throughput_df, f)"
   ]
  },
  {
   "cell_type": "code",
   "execution_count": null,
   "metadata": {},
   "outputs": [],
   "source": [
    "throughput_df"
   ]
  },
  {
   "cell_type": "code",
   "execution_count": null,
   "metadata": {},
   "outputs": [],
   "source": [
    "combined_raw_data"
   ]
  },
  {
   "cell_type": "markdown",
   "metadata": {},
   "source": [
    "## Plotting the raw data"
   ]
  },
  {
   "cell_type": "code",
   "execution_count": null,
   "metadata": {},
   "outputs": [],
   "source": [
    "column_name_mapping = {\n",
    "    \"P--batch_size\": \"BS\",\n",
    "    \"P--prefill_length\": \"CTX\",\n",
    "    \"R--llama2__tcm__ampdt-bfloat16__wdt-bfloat16__ucgg-True_ucgm-False\": \"llama2\",\n",
    "    \"R--llama3__tcm__ampdt-bfloat16__wdt-bfloat16__ucgg-True_ucgm-False\": \"llama3\",\n",
    "    \"R--codestral_mamba__ampdt-bfloat16__wdt-bfloat16__ucgg-True_ucgm-False\": \"codestral_mamba\",\n",
    "    \"R--falcon_mamba__ampdt-bfloat16__wdt-bfloat16__ucgg-True_ucgm-False\": \"falcon_mamba\",\n",
    "    \"R--xlstm__tcm__ampdt-bfloat16__wdt-bfloat16__ucgg-True_ucgm-False_isd-bfloat16_ed-4096_nh-8_nb-32_vs-50304_wm-fused_ck-chunkwise--triton_xl_chunk_sk-native_sequence__triton_step_fused_sk-triton_fused_cs-128_akd-bfloat16\": \"xlstm\",\n",
    "}"
   ]
  },
  {
   "cell_type": "code",
   "execution_count": null,
   "metadata": {},
   "outputs": [],
   "source": [
    "throughput_df.columns"
   ]
  },
  {
   "cell_type": "code",
   "execution_count": null,
   "metadata": {},
   "outputs": [],
   "source": [
    "new_col_names = [column_name_mapping.get(col, col) for col in throughput_df.columns]\n",
    "throughput_df.columns = new_col_names"
   ]
  },
  {
   "cell_type": "code",
   "execution_count": null,
   "metadata": {},
   "outputs": [],
   "source": [
    "plot_throughput_df = throughput_df.round(0).astype(int)\n",
    "plot_throughput_df"
   ]
  },
  {
   "cell_type": "code",
   "execution_count": null,
   "metadata": {},
   "outputs": [],
   "source": [
    "fig = rc_context_wrapper(\n",
    "    func=create_runtime_bar_plot,\n",
    "    data_df=plot_throughput_df,\n",
    "    group_col_names=[\"BS\", \"CTX\"],\n",
    "    style_dict=style_dict,\n",
    "    figsize=(2 * 12 * 1 / 2.54, 1.5 * 8 * 1 / 2.54),\n",
    "    y_label=\"Tokens per Second\",\n",
    "    legend_args={\n",
    "        \"loc\": \"lower center\",\n",
    "        \"ncol\": 3,\n",
    "        \"bbox_to_anchor\": (0.0, 1.02, 1.0, 0.502),\n",
    "        \"frameon\": False,\n",
    "        \"facecolor\": \"white\",\n",
    "    },\n",
    ")"
   ]
  },
  {
   "cell_type": "code",
   "execution_count": null,
   "metadata": {},
   "outputs": [],
   "source": [
    "fig"
   ]
  },
  {
   "cell_type": "code",
   "execution_count": null,
   "metadata": {},
   "outputs": [],
   "source": [
    "savefig(fig, \"throughput\")"
   ]
  },
  {
   "cell_type": "code",
   "execution_count": null,
   "metadata": {},
   "outputs": [],
   "source": []
  }
 ],
 "metadata": {
  "kernelspec": {
   "display_name": "xlstmpt260cu126_speedvllm2",
   "language": "python",
   "name": "python3"
  },
  "language_info": {
   "codemirror_mode": {
    "name": "ipython",
    "version": 3
   },
   "file_extension": ".py",
   "mimetype": "text/x-python",
   "name": "python",
   "nbconvert_exporter": "python",
   "pygments_lexer": "ipython3",
   "version": "3.11.11"
  }
 },
 "nbformat": 4,
 "nbformat_minor": 2
}
