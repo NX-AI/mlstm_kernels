{
 "cells": [
  {
   "cell_type": "code",
   "execution_count": null,
   "id": "bc8a5e24",
   "metadata": {},
   "outputs": [],
   "source": [
    "%load_ext autoreload\n",
    "%autoreload 2\n",
    "\n",
    "import pandas as pd\n",
    "from plot_paper_figures_custom import read_ruler_abl_data\n",
    "\n",
    "import pickle\n",
    "\n",
    "import seaborn as sns\n",
    "import matplotlib.pyplot as plt\n",
    "from plot_config import savefig"
   ]
  },
  {
   "cell_type": "code",
   "execution_count": null,
   "id": "2f6a662f",
   "metadata": {},
   "outputs": [],
   "source": [
    "ruler_result_filename = \"avg_acc_ruler_abl.pkl\""
   ]
  },
  {
   "cell_type": "code",
   "execution_count": null,
   "id": "36dbcbbf",
   "metadata": {},
   "outputs": [],
   "source": [
    "with open(ruler_result_filename, \"rb\") as f:\n",
    "    ruler_abl_data = pickle.load(f)\n",
    "\n",
    "ruler_abl_df = pd.DataFrame(ruler_abl_data)\n",
    "ruler_abl_df"
   ]
  },
  {
   "cell_type": "code",
   "execution_count": null,
   "id": "b7dab3e5",
   "metadata": {},
   "outputs": [],
   "source": [
    "style_dicts = {\n",
    "    # \"xLSTM-7b\": {\n",
    "    #     \"color\": \"#861657ff\",\n",
    "    #     \"marker\": \"o\",\n",
    "    #     \"label\": \"xLSTM 7B\",\n",
    "    #     \"alpha\": 0.6,\n",
    "    # },\n",
    "    # \"xLSTM-7b-longctx\": {\n",
    "    #     \"color\": \"#cc4391ff\",\n",
    "    #     \"marker\": \"o\",\n",
    "    #     \"label\": \"xLSTM 7B LCTX 32k\",\n",
    "    #     \"alpha\": 0.6,\n",
    "    # },\n",
    "    \"xLSTM-7b-short-nh8\": {\n",
    "        \"color\": \"#55a868\",\n",
    "        \"marker\": \"o\",\n",
    "        \"label\": \"IGate Trainable (Bias Init -10)\",  # \"NH8 Input Gate Trainable (Bias Init -10)\",\n",
    "    },\n",
    "    \"xLSTM-7b-short-nh8-noig0\": {\n",
    "        \"color\": \"#dd8452\",\n",
    "        \"marker\": \"o\",\n",
    "        \"label\": \"IGate Fixed (Bias Init 0)\",  # \"NH8 Input Gate Fixed (Bias Init 0)\",\n",
    "    },\n",
    "    \"xLSTM-7b-short-nh8-noig\": {\n",
    "        \"color\": \"#4c72b0\",\n",
    "        \"marker\": \"o\",\n",
    "        \"label\": \"IGate Fixed (Bias Init -10)\",  # \"NH8 Input Gate Fixed (Bias Init -10)\",\n",
    "    },\n",
    "}"
   ]
  },
  {
   "cell_type": "code",
   "execution_count": null,
   "id": "31affbc7",
   "metadata": {},
   "outputs": [],
   "source": [
    "data_df = ruler_abl_df\n",
    "data_df[ruler_abl_df.index.name] = data_df.index\n",
    "x_col = \"ctx_length\"\n",
    "with sns.plotting_context(\"notebook\", font_scale=1.2):\n",
    "    fig, ax = plt.subplots(figsize=(6, 4))\n",
    "    for key, style in style_dicts.items():\n",
    "        ax.plot(data_df[x_col], data_df[key], **style)\n",
    "    ax.set_xlabel(\"Context Length\")\n",
    "    ax.set_ylabel(\"Average Accuracy [%]\")\n",
    "\n",
    "    ax.set_xscale(\"log\", base=2)\n",
    "    ax.set_xticks(data_df[x_col])\n",
    "    ax.set_xticklabels(data_df[x_col])\n",
    "    ax.legend(fontsize=12)\n",
    "    # ax.set_title(\"RULER Long Context Benchmark\")\n",
    "fig"
   ]
  },
  {
   "cell_type": "code",
   "execution_count": null,
   "id": "1c402b43",
   "metadata": {},
   "outputs": [],
   "source": [
    "savefig(fig, \"ruler_ablation\")"
   ]
  },
  {
   "cell_type": "code",
   "execution_count": null,
   "id": "084db685",
   "metadata": {},
   "outputs": [],
   "source": []
  }
 ],
 "metadata": {
  "kernelspec": {
   "display_name": "mlstmpt251cu124",
   "language": "python",
   "name": "python3"
  },
  "language_info": {
   "codemirror_mode": {
    "name": "ipython",
    "version": 3
   },
   "file_extension": ".py",
   "mimetype": "text/x-python",
   "name": "python",
   "nbconvert_exporter": "python",
   "pygments_lexer": "ipython3",
   "version": "3.11.11"
  }
 },
 "nbformat": 4,
 "nbformat_minor": 5
}
